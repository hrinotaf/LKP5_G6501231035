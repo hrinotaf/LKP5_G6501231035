{
  "nbformat": 4,
  "nbformat_minor": 0,
  "metadata": {
    "colab": {
      "provenance": [],
      "authorship_tag": "ABX9TyOpMipQJTTIyVL/sLhHVcOl",
      "include_colab_link": true
    },
    "kernelspec": {
      "name": "python3",
      "display_name": "Python 3"
    },
    "language_info": {
      "name": "python"
    }
  },
  "cells": [
    {
      "cell_type": "markdown",
      "metadata": {
        "id": "view-in-github",
        "colab_type": "text"
      },
      "source": [
        "<a href=\"https://colab.research.google.com/github/hrinotaf/LKP5_G6501231035/blob/main/LKP5_G6501231035.ipynb\" target=\"_parent\"><img src=\"https://colab.research.google.com/assets/colab-badge.svg\" alt=\"Open In Colab\"/></a>"
      ]
    },
    {
      "cell_type": "code",
      "execution_count": 1,
      "metadata": {
        "colab": {
          "base_uri": "https://localhost:8080/"
        },
        "id": "3AMU1_E7byzw",
        "outputId": "6dec108f-625e-43ef-dd9c-b71906511225"
      },
      "outputs": [
        {
          "output_type": "stream",
          "name": "stdout",
          "text": [
            "Collecting hmmlearn==0.2.2\n",
            "  Downloading hmmlearn-0.2.2.tar.gz (146 kB)\n",
            "\u001b[?25l     \u001b[90m━━━━━━━━━━━━━━━━━━━━━━━━━━━━━━━━━━━━━━━━\u001b[0m \u001b[32m0.0/146.4 kB\u001b[0m \u001b[31m?\u001b[0m eta \u001b[36m-:--:--\u001b[0m\r\u001b[2K     \u001b[91m━━━━━━━━━━━━━━━━━━━━━━━━━━━━━━━━━━━━━━\u001b[0m\u001b[90m╺\u001b[0m \u001b[32m143.4/146.4 kB\u001b[0m \u001b[31m4.1 MB/s\u001b[0m eta \u001b[36m0:00:01\u001b[0m\r\u001b[2K     \u001b[90m━━━━━━━━━━━━━━━━━━━━━━━━━━━━━━━━━━━━━━━\u001b[0m \u001b[32m146.4/146.4 kB\u001b[0m \u001b[31m2.9 MB/s\u001b[0m eta \u001b[36m0:00:00\u001b[0m\n",
            "\u001b[?25h  Preparing metadata (setup.py) ... \u001b[?25l\u001b[?25hdone\n",
            "Requirement already satisfied: numpy>=1.10 in /usr/local/lib/python3.10/dist-packages (from hmmlearn==0.2.2) (1.23.5)\n",
            "Requirement already satisfied: scikit-learn>=0.16 in /usr/local/lib/python3.10/dist-packages (from hmmlearn==0.2.2) (1.2.2)\n",
            "Requirement already satisfied: scipy>=1.3.2 in /usr/local/lib/python3.10/dist-packages (from scikit-learn>=0.16->hmmlearn==0.2.2) (1.11.2)\n",
            "Requirement already satisfied: joblib>=1.1.1 in /usr/local/lib/python3.10/dist-packages (from scikit-learn>=0.16->hmmlearn==0.2.2) (1.3.2)\n",
            "Requirement already satisfied: threadpoolctl>=2.0.0 in /usr/local/lib/python3.10/dist-packages (from scikit-learn>=0.16->hmmlearn==0.2.2) (3.2.0)\n",
            "Building wheels for collected packages: hmmlearn\n",
            "  Building wheel for hmmlearn (setup.py) ... \u001b[?25l\u001b[?25hdone\n",
            "  Created wheel for hmmlearn: filename=hmmlearn-0.2.2-cp310-cp310-linux_x86_64.whl size=465408 sha256=f3dff2df682d590a2204c3ac3ecbda7f82ac4b2d59def20bfeac593eb5dbb7a6\n",
            "  Stored in directory: /root/.cache/pip/wheels/50/ce/de/18a9f86c6f0c2863350674635b19f0b5149eaa89f6c571dc06\n",
            "Successfully built hmmlearn\n",
            "Installing collected packages: hmmlearn\n",
            "Successfully installed hmmlearn-0.2.2\n"
          ]
        }
      ],
      "source": [
        "pip install hmmlearn==0.2.2"
      ]
    },
    {
      "cell_type": "markdown",
      "source": [
        "1.\tMendefinisikan State"
      ],
      "metadata": {
        "id": "t9Ra79f0hplt"
      }
    },
    {
      "cell_type": "code",
      "source": [
        "# Definisi Matrik Transisi (states)\n",
        "\n",
        "states = ('Rainy', 'Sunny')\n",
        "\n",
        "# definisi Matriks Observasi / Matrik emmisi\n",
        "observations = ('walk', 'shop', 'clean')\n",
        "\n",
        "# definisi Matriks Priority\n",
        "start_probability = {'Rainy': 0.6, 'Sunny': 0.4}\n",
        "\n",
        "transition_probability = {\n",
        "   'Rainy' : {'Rainy': 0.7, 'Sunny': 0.3},\n",
        "   'Sunny' : {'Rainy': 0.4, 'Sunny': 0.6},\n",
        "   }\n",
        "\n",
        "emission_probability = {\n",
        "   'Rainy' : {'walk': 0.1, 'shop': 0.4, 'clean': 0.5},\n",
        "   'Sunny' : {'walk': 0.6, 'shop': 0.3, 'clean': 0.1},\n",
        "   }\n"
      ],
      "metadata": {
        "id": "lh4JOAOSdQUQ"
      },
      "execution_count": 2,
      "outputs": []
    },
    {
      "cell_type": "markdown",
      "source": [
        "2.\tInstalasi library dan representasi pada matrik"
      ],
      "metadata": {
        "id": "L9KWv7yEhvdj"
      }
    },
    {
      "cell_type": "code",
      "source": [
        "# Library untuk HMM\n",
        "# Cara install pip install hmmlearn==0.2.2\n",
        "\n",
        "from hmmlearn import hmm\n",
        "import numpy as np\n",
        "\n",
        "model = hmm.MultinomialHMM(n_components=2)\n",
        "model.startprob_ = np.array([0.6, 0.4])\n",
        "model.transmat_ = np.array([[0.7, 0.3],\n",
        "                            [0.4, 0.6]])\n",
        "model.emissionprob_ = np.array([[0.1, 0.4, 0.5],\n",
        "                                [0.6, 0.3, 0.1]])\n"
      ],
      "metadata": {
        "id": "SnRntla7d9Ta"
      },
      "execution_count": 3,
      "outputs": []
    },
    {
      "cell_type": "markdown",
      "source": [
        "3.\tMenyelesaikan permasalahan 1 dari HMM"
      ],
      "metadata": {
        "id": "YSn1x_3-h0LT"
      }
    },
    {
      "cell_type": "code",
      "source": [
        "# Given a known model what is the likelihood of sequence O happening?\n",
        "# The probability of the first observation being “Walk” equals to the multiplication\n",
        "# of the initial state distribution and emission probability matrix.\n",
        "# 0.6 x 0.1 + 0.4 x 0.6 = 0.30 (30%).\n",
        "# The log likelihood is provided from calling .score.\n",
        "# catatan {'walk', 'shop','clean' }\n",
        "# Kasus untuk initial state #\n",
        "# contoh untuk observasi 'walk'\n",
        "# peluang dari model jika observasi adalah 'walk'\n",
        "# 0.6 x 0.1 + 0.4 x 0.6 = 0.30 (30%)\n",
        "\n",
        "import math\n",
        "math.exp(model.score(np.array([[0]])))"
      ],
      "metadata": {
        "colab": {
          "base_uri": "https://localhost:8080/"
        },
        "id": "q2sgsnVieDMs",
        "outputId": "5099197d-c2de-4859-b483-72d9bd6517ad"
      },
      "execution_count": 11,
      "outputs": [
        {
          "output_type": "execute_result",
          "data": {
            "text/plain": [
              "0.30000000000000004"
            ]
          },
          "metadata": {},
          "execution_count": 11
        }
      ]
    },
    {
      "cell_type": "code",
      "source": [
        "# contoh untuk observasi 'shop'\n",
        "# peluang dari model jika observasi adalah 'shop'\n",
        "# 0.6 x 0.4 + 0.4 x 0.3 = (36%)\n",
        "\n",
        "math.exp(model.score(np.array([[1]])))"
      ],
      "metadata": {
        "colab": {
          "base_uri": "https://localhost:8080/"
        },
        "id": "WlEXkqPgmjLT",
        "outputId": "5230de40-6f05-44f1-c3d2-4f69879768d5"
      },
      "execution_count": 12,
      "outputs": [
        {
          "output_type": "execute_result",
          "data": {
            "text/plain": [
              "0.36000000000000004"
            ]
          },
          "metadata": {},
          "execution_count": 12
        }
      ]
    },
    {
      "cell_type": "code",
      "source": [
        "# contoh untuk observasi 'clean'\n",
        "# peluang dari model jika observasi adalah 'clean'\n",
        "# 0.6 x 0.5 + 0.4 x 0.1 = (34%)\n",
        "\n",
        "math.exp(model.score(np.array([[2]])))\n"
      ],
      "metadata": {
        "colab": {
          "base_uri": "https://localhost:8080/"
        },
        "id": "NqHMQunheNBL",
        "outputId": "c74e0fb7-83a8-418d-e08a-b29e100bf4c4"
      },
      "execution_count": 5,
      "outputs": [
        {
          "output_type": "execute_result",
          "data": {
            "text/plain": [
              "0.3400000000000001"
            ]
          },
          "metadata": {},
          "execution_count": 5
        }
      ]
    },
    {
      "cell_type": "code",
      "source": [
        "# contoh untuk observasi {'clean', 'clean'}\n",
        "# peluang dari model jika observasi {'clean', 'clean'} adalah\n",
        "\n",
        "math.exp(model.score(np.array([[2,2]])))\n"
      ],
      "metadata": {
        "colab": {
          "base_uri": "https://localhost:8080/"
        },
        "id": "X5GE3yNveS26",
        "outputId": "9833f23c-5984-4bb9-a46f-01b8f464693d"
      },
      "execution_count": 6,
      "outputs": [
        {
          "output_type": "execute_result",
          "data": {
            "text/plain": [
              "0.1244"
            ]
          },
          "metadata": {},
          "execution_count": 6
        }
      ]
    },
    {
      "cell_type": "markdown",
      "source": [
        "4.\tMenyelesaikan permaslahan 2 dai HMM dengan viterbi algorithm"
      ],
      "metadata": {
        "id": "3RY3ablHi_58"
      }
    },
    {
      "cell_type": "code",
      "source": [
        "#==== HMM decode dengan algoritma viterbi di dalamnya ======#\n",
        "logprob, seq = model.decode(np.array([[1,2,0]]).transpose())\n",
        "print(math.exp(logprob))\n",
        "print(seq)\n"
      ],
      "metadata": {
        "colab": {
          "base_uri": "https://localhost:8080/"
        },
        "id": "kq2Huo6weX9R",
        "outputId": "f1b63e08-3838-4b8a-9c93-165fa47b8711"
      },
      "execution_count": 7,
      "outputs": [
        {
          "output_type": "stream",
          "name": "stdout",
          "text": [
            "0.015120000000000003\n",
            "[0 0 1]\n"
          ]
        }
      ]
    },
    {
      "cell_type": "code",
      "source": [
        "logprob, seq = model.decode(np.array([[2,2,2]]).transpose())\n",
        "print(math.exp(logprob))\n",
        "print(seq)\n"
      ],
      "metadata": {
        "colab": {
          "base_uri": "https://localhost:8080/"
        },
        "id": "QPUBoAkAebuS",
        "outputId": "56e6eb82-ccfa-4637-d1ca-964779a5ad50"
      },
      "execution_count": 8,
      "outputs": [
        {
          "output_type": "stream",
          "name": "stdout",
          "text": [
            "0.03674999999999999\n",
            "[0 0 0]\n"
          ]
        }
      ]
    },
    {
      "cell_type": "markdown",
      "source": [
        "# Tugas Praktikum"
      ],
      "metadata": {
        "id": "Z5c3O22Toirs"
      }
    },
    {
      "cell_type": "markdown",
      "source": [
        "Hitung peluang dari model jika observasi {'clean', 'clean',’walk’, ‘walk’, ‘shop’} dari model yang ada"
      ],
      "metadata": {
        "id": "_vEQibvjjoC7"
      }
    },
    {
      "cell_type": "code",
      "source": [
        "# 1.\tHitung peluang dari model jika observasi\n",
        "#  {'clean', 'clean',’walk’, ‘walk’, ‘shop’} dari model yang ada\n",
        "math.exp(model.score(np.array([[2,2,0,0,1]])))"
      ],
      "metadata": {
        "id": "0W3wWbfkelS9",
        "colab": {
          "base_uri": "https://localhost:8080/"
        },
        "outputId": "55a42991-f693-4d4f-9672-a04ba958634c"
      },
      "execution_count": 9,
      "outputs": [
        {
          "output_type": "execute_result",
          "data": {
            "text/plain": [
              "0.004082395400000001"
            ]
          },
          "metadata": {},
          "execution_count": 9
        }
      ]
    },
    {
      "cell_type": "markdown",
      "source": [
        "Catat state yang paling  baik untuk untuk observasi {'clean', 'clean',’walk’, ‘walk’, ‘shop’} dari model yang ada"
      ],
      "metadata": {
        "id": "04LdICqikHYF"
      }
    },
    {
      "cell_type": "code",
      "source": [
        "# 1.\tCatat state yang paling  baik untuk untuk observasi\n",
        "#  {'clean', 'clean',’walk’, ‘walk’, ‘shop’} dari model yang ada\n",
        "logprob, seq = model.decode(np.array([[2,2,0,0,1]]).transpose())\n",
        "print(math.exp(logprob))\n",
        "print(seq)"
      ],
      "metadata": {
        "colab": {
          "base_uri": "https://localhost:8080/"
        },
        "id": "fgCFkAYYopKh",
        "outputId": "df39361d-3d4d-4c57-f05e-8e935ec780bf"
      },
      "execution_count": 10,
      "outputs": [
        {
          "output_type": "stream",
          "name": "stdout",
          "text": [
            "0.001224720000000001\n",
            "[0 0 1 1 1]\n"
          ]
        }
      ]
    },
    {
      "cell_type": "code",
      "source": [],
      "metadata": {
        "id": "8qV4nLKZpcoA"
      },
      "execution_count": 10,
      "outputs": []
    }
  ]
}